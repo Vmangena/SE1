{
  "nbformat": 4,
  "nbformat_minor": 0,
  "metadata": {
    "colab": {
      "provenance": [],
      "include_colab_link": true
    },
    "kernelspec": {
      "name": "python3",
      "display_name": "Python 3"
    },
    "language_info": {
      "name": "python"
    }
  },
  "cells": [
    {
      "cell_type": "markdown",
      "metadata": {
        "id": "view-in-github",
        "colab_type": "text"
      },
      "source": [
        "<a href=\"https://colab.research.google.com/github/Vmangena/SE1/blob/main/1_DL_Perceptron.ipynb\" target=\"_parent\"><img src=\"https://colab.research.google.com/assets/colab-badge.svg\" alt=\"Open In Colab\"/></a>"
      ]
    },
    {
      "cell_type": "markdown",
      "metadata": {
        "id": "mgcMOlkOyxRz"
      },
      "source": [
        "#Perceptron"
      ]
    },
    {
      "cell_type": "markdown",
      "metadata": {
        "id": "zZg-wmyiy2Hd"
      },
      "source": [
        "###Importing Libraries"
      ]
    },
    {
      "cell_type": "code",
      "metadata": {
        "id": "sF93yphtyrhG"
      },
      "source": [
        "from numpy import array #For Array Initialization\n",
        "from numpy import random #For Randomly choosing Numbers\n",
        "from numpy import dot #For Doing DOT Product\n",
        "from random import choice"
      ],
      "execution_count": null,
      "outputs": []
    },
    {
      "cell_type": "markdown",
      "metadata": {
        "id": "qFkj9b4T2-fc"
      },
      "source": [
        "###Activation Function"
      ]
    },
    {
      "cell_type": "code",
      "metadata": {
        "id": "GqF1a5VD3A3B"
      },
      "source": [
        "activationFn = lambda x: 0 if x < 0 else 1 #step activation function (if i/p is negative o/p is 0 else 1)"
      ],
      "execution_count": null,
      "outputs": []
    },
    {
      "cell_type": "markdown",
      "metadata": {
        "id": "_J8gcaRE3FZA"
      },
      "source": [
        "###Training Dataset"
      ]
    },
    {
      "cell_type": "code",
      "metadata": {
        "id": "t0gwhMN6zhse",
        "colab": {
          "base_uri": "https://localhost:8080/"
        },
        "outputId": "097d740b-642e-4ab5-f9e3-bf2e0d52ab2f"
      },
      "source": [
        "dataset = [\n",
        "    (array([0,0,1]), 0), #array([x,y,b],e) x,y=Input , b=bias, e=Expected O/P to validate\n",
        "    (array([0,1,1]), 1),\n",
        "    (array([1,0,1]), 1),\n",
        "    (array([1,1,1]), 1),\n",
        "]\n",
        "print(dataset)\n",
        "print(array([0,0,1]"
      ],
      "execution_count": null,
      "outputs": [
        {
          "output_type": "stream",
          "name": "stdout",
          "text": [
            "[(array([0, 0, 1]), 0), (array([0, 1, 1]), 1), (array([1, 0, 1]), 1), (array([1, 1, 1]), 1)]\n"
          ]
        }
      ]
    },
    {
      "cell_type": "markdown",
      "metadata": {
        "id": "K1t7I4cI3Myu"
      },
      "source": [
        "###Initializing Random numbers for WEIGHTS"
      ]
    },
    {
      "cell_type": "code",
      "metadata": {
        "id": "gaCIPAqe3RIM"
      },
      "source": [
        "weights = random.rand(3)"
      ],
      "execution_count": null,
      "outputs": []
    },
    {
      "cell_type": "markdown",
      "metadata": {
        "id": "mek19BC73eeJ"
      },
      "source": [
        "###Initializing additional variables"
      ]
    },
    {
      "cell_type": "code",
      "metadata": {
        "id": "cmRWDOef3hk3"
      },
      "source": [
        "r = 0.2 #learning Rate\n",
        "n = 100 #Number of Iteration"
      ],
      "execution_count": null,
      "outputs": []
    },
    {
      "cell_type": "markdown",
      "metadata": {
        "id": "3NfEKTif3unX"
      },
      "source": [
        "###Training our Model"
      ]
    },
    {
      "cell_type": "code",
      "metadata": {
        "id": "xV6bz_6-3x77"
      },
      "source": [
        "for j in range(n):\n",
        "    x, expected = choice(dataset) #random input set, Includes repeated numbers\n",
        "    #print(x,expected)\n",
        "    result = dot(weights, x) #dot product of the input and the weight vectors\n",
        "    err = expected-activationFn(result)\n",
        "    weights += r * err * x #calculate the correction factor, added to weights to improve o/p in next iteration\n",
        "    #If the expected value is bigger, the weights should be increased, and if expected value is smaller, the weights should be decreased"
      ],
      "execution_count": null,
      "outputs": []
    },
    {
      "cell_type": "markdown",
      "metadata": {
        "id": "fcPITlOQ4uAO"
      },
      "source": [
        "###Evaluating Model"
      ]
    },
    {
      "cell_type": "code",
      "metadata": {
        "id": "Jbu6fhtj4vw7",
        "colab": {
          "base_uri": "https://localhost:8080/"
        },
        "outputId": "c55905bf-ad51-48b3-d2a0-941064eb5ede"
      },
      "source": [
        "\n",
        "for x, _ in dataset:\n",
        "    result = dot(x, weights)\n",
        "    print(\"Input: {}  ResultBAFn: {} ResultAFn: {}\".format(x[:2], round(result,3), activationFn(result)))"
      ],
      "execution_count": null,
      "outputs": [
        {
          "output_type": "stream",
          "name": "stdout",
          "text": [
            "Input: [0 0]  ResultBAFn: -0.061 ResultAFn: 0\n",
            "Input: [0 1]  ResultBAFn: 0.879 ResultAFn: 1\n",
            "Input: [1 0]  ResultBAFn: 0.18 ResultAFn: 1\n",
            "Input: [1 1]  ResultBAFn: 1.121 ResultAFn: 1\n"
          ]
        }
      ]
    }
  ]
}